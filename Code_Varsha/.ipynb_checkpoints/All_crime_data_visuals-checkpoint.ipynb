{
 "cells": [
  {
   "cell_type": "code",
   "execution_count": 6,
   "metadata": {},
   "outputs": [],
   "source": [
    "import pandas as pd"
   ]
  },
  {
   "cell_type": "code",
   "execution_count": 8,
   "metadata": {},
   "outputs": [],
   "source": [
    "df = pd.read_csv('/Users/varsha/Desktop/My code/data/raw/Crimes_-_2001_to_present.csv')"
   ]
  },
  {
   "cell_type": "code",
   "execution_count": 9,
   "metadata": {},
   "outputs": [
    {
     "data": {
      "text/html": [
       "<div>\n",
       "<style scoped>\n",
       "    .dataframe tbody tr th:only-of-type {\n",
       "        vertical-align: middle;\n",
       "    }\n",
       "\n",
       "    .dataframe tbody tr th {\n",
       "        vertical-align: top;\n",
       "    }\n",
       "\n",
       "    .dataframe thead th {\n",
       "        text-align: right;\n",
       "    }\n",
       "</style>\n",
       "<table border=\"1\" class=\"dataframe\">\n",
       "  <thead>\n",
       "    <tr style=\"text-align: right;\">\n",
       "      <th></th>\n",
       "      <th>ID</th>\n",
       "      <th>Case Number</th>\n",
       "      <th>Date</th>\n",
       "      <th>Block</th>\n",
       "      <th>IUCR</th>\n",
       "      <th>Primary Type</th>\n",
       "      <th>Description</th>\n",
       "      <th>Location Description</th>\n",
       "      <th>Arrest</th>\n",
       "      <th>Domestic</th>\n",
       "      <th>...</th>\n",
       "      <th>Ward</th>\n",
       "      <th>Community Area</th>\n",
       "      <th>FBI Code</th>\n",
       "      <th>X Coordinate</th>\n",
       "      <th>Y Coordinate</th>\n",
       "      <th>Year</th>\n",
       "      <th>Updated On</th>\n",
       "      <th>Latitude</th>\n",
       "      <th>Longitude</th>\n",
       "      <th>Location</th>\n",
       "    </tr>\n",
       "  </thead>\n",
       "  <tbody>\n",
       "    <tr>\n",
       "      <th>0</th>\n",
       "      <td>11777353</td>\n",
       "      <td>JC372280</td>\n",
       "      <td>07/28/2019 12:00:00 AM</td>\n",
       "      <td>034XX N CLARK ST</td>\n",
       "      <td>0870</td>\n",
       "      <td>THEFT</td>\n",
       "      <td>POCKET-PICKING</td>\n",
       "      <td>SIDEWALK</td>\n",
       "      <td>False</td>\n",
       "      <td>False</td>\n",
       "      <td>...</td>\n",
       "      <td>44</td>\n",
       "      <td>6</td>\n",
       "      <td>06</td>\n",
       "      <td>1168858.0</td>\n",
       "      <td>1923281.0</td>\n",
       "      <td>2019</td>\n",
       "      <td>08/04/2019 04:06:55 PM</td>\n",
       "      <td>41.945007</td>\n",
       "      <td>-87.654746</td>\n",
       "      <td>(41.945006581, -87.654745566)</td>\n",
       "    </tr>\n",
       "    <tr>\n",
       "      <th>1</th>\n",
       "      <td>11776935</td>\n",
       "      <td>JC371893</td>\n",
       "      <td>07/28/2019 12:00:00 AM</td>\n",
       "      <td>039XX N LAKE SHORE DR</td>\n",
       "      <td>1150</td>\n",
       "      <td>DECEPTIVE PRACTICE</td>\n",
       "      <td>CREDIT CARD FRAUD</td>\n",
       "      <td>APARTMENT</td>\n",
       "      <td>False</td>\n",
       "      <td>False</td>\n",
       "      <td>...</td>\n",
       "      <td>46</td>\n",
       "      <td>6</td>\n",
       "      <td>11</td>\n",
       "      <td>1171455.0</td>\n",
       "      <td>1926529.0</td>\n",
       "      <td>2019</td>\n",
       "      <td>08/04/2019 04:06:55 PM</td>\n",
       "      <td>41.953862</td>\n",
       "      <td>-87.645104</td>\n",
       "      <td>(41.95386239, -87.64510423)</td>\n",
       "    </tr>\n",
       "    <tr>\n",
       "      <th>2</th>\n",
       "      <td>11777960</td>\n",
       "      <td>JC372154</td>\n",
       "      <td>07/28/2019 12:00:00 AM</td>\n",
       "      <td>063XX S ASHLAND AVE</td>\n",
       "      <td>0810</td>\n",
       "      <td>THEFT</td>\n",
       "      <td>OVER $500</td>\n",
       "      <td>CTA TRAIN</td>\n",
       "      <td>False</td>\n",
       "      <td>False</td>\n",
       "      <td>...</td>\n",
       "      <td>16</td>\n",
       "      <td>67</td>\n",
       "      <td>06</td>\n",
       "      <td>1166756.0</td>\n",
       "      <td>1862726.0</td>\n",
       "      <td>2019</td>\n",
       "      <td>08/04/2019 04:06:55 PM</td>\n",
       "      <td>41.778884</td>\n",
       "      <td>-87.664206</td>\n",
       "      <td>(41.778883826, -87.664206366)</td>\n",
       "    </tr>\n",
       "  </tbody>\n",
       "</table>\n",
       "<p>3 rows × 22 columns</p>\n",
       "</div>"
      ],
      "text/plain": [
       "         ID Case Number                    Date                  Block  IUCR  \\\n",
       "0  11777353    JC372280  07/28/2019 12:00:00 AM       034XX N CLARK ST  0870   \n",
       "1  11776935    JC371893  07/28/2019 12:00:00 AM  039XX N LAKE SHORE DR  1150   \n",
       "2  11777960    JC372154  07/28/2019 12:00:00 AM    063XX S ASHLAND AVE  0810   \n",
       "\n",
       "         Primary Type        Description Location Description  Arrest  \\\n",
       "0               THEFT     POCKET-PICKING             SIDEWALK   False   \n",
       "1  DECEPTIVE PRACTICE  CREDIT CARD FRAUD            APARTMENT   False   \n",
       "2               THEFT          OVER $500            CTA TRAIN   False   \n",
       "\n",
       "   Domestic              ...                Ward  Community Area  FBI Code  \\\n",
       "0     False              ...                  44               6        06   \n",
       "1     False              ...                  46               6        11   \n",
       "2     False              ...                  16              67        06   \n",
       "\n",
       "   X Coordinate Y Coordinate  Year              Updated On   Latitude  \\\n",
       "0     1168858.0    1923281.0  2019  08/04/2019 04:06:55 PM  41.945007   \n",
       "1     1171455.0    1926529.0  2019  08/04/2019 04:06:55 PM  41.953862   \n",
       "2     1166756.0    1862726.0  2019  08/04/2019 04:06:55 PM  41.778884   \n",
       "\n",
       "   Longitude                       Location  \n",
       "0 -87.654746  (41.945006581, -87.654745566)  \n",
       "1 -87.645104    (41.95386239, -87.64510423)  \n",
       "2 -87.664206  (41.778883826, -87.664206366)  \n",
       "\n",
       "[3 rows x 22 columns]"
      ]
     },
     "execution_count": 9,
     "metadata": {},
     "output_type": "execute_result"
    }
   ],
   "source": [
    "df.head(3)"
   ]
  },
  {
   "cell_type": "code",
   "execution_count": 10,
   "metadata": {},
   "outputs": [
    {
     "data": {
      "text/html": [
       "        <script type=\"text/javascript\">\n",
       "        window.PlotlyConfig = {MathJaxConfig: 'local'};\n",
       "        if (window.MathJax) {MathJax.Hub.Config({SVG: {font: \"STIX-Web\"}});}\n",
       "        if (typeof require !== 'undefined') {\n",
       "        require.undef(\"plotly\");\n",
       "        requirejs.config({\n",
       "            paths: {\n",
       "                'plotly': ['https://cdn.plot.ly/plotly-latest.min']\n",
       "            }\n",
       "        });\n",
       "        require(['plotly'], function(Plotly) {\n",
       "            window._Plotly = Plotly;\n",
       "        });\n",
       "        }\n",
       "        </script>\n",
       "        "
      ]
     },
     "metadata": {},
     "output_type": "display_data"
    }
   ],
   "source": [
    "import pandas as pd\n",
    "import matplotlib.pyplot as plt\n",
    "import plotly.graph_objs as go#visualization\n",
    "import plotly.tools as tls#visualization\n",
    "import plotly.figure_factory as ff#visualization\n",
    "import plotly.offline as py#visualization\n",
    "py.init_notebook_mode(connected=True)#visualization"
   ]
  },
  {
   "cell_type": "code",
   "execution_count": 11,
   "metadata": {},
   "outputs": [
    {
     "data": {
      "application/vnd.plotly.v1+json": {
       "config": {
        "linkText": "Export to plot.ly",
        "plotlyServerURL": "https://plot.ly",
        "responsive": true,
        "showLink": false
       },
       "data": [
        {
         "hole": 0.2,
         "labels": [
          "THEFT",
          "BATTERY",
          "CRIMINAL DAMAGE",
          "ASSAULT",
          "OTHER OFFENSE",
          "DECEPTIVE PRACTICE",
          "NARCOTICS",
          "BURGLARY",
          "MOTOR VEHICLE THEFT",
          "ROBBERY",
          "WEAPONS VIOLATION",
          "CRIMINAL TRESPASS",
          "OFFENSE INVOLVING CHILDREN",
          "INTERFERENCE WITH PUBLIC OFFICER",
          "PUBLIC PEACE VIOLATION",
          "CRIM SEXUAL ASSAULT",
          "SEX OFFENSE",
          "PROSTITUTION",
          "HOMICIDE",
          "ARSON"
         ],
         "marker": {
          "colors": [
           "skyblue",
           "#FEBFB3",
           "#96D38C",
           "#D0F9B1",
           "gold",
           "orange",
           "lightgrey",
           "lightblue",
           "lightgreen",
           "aqua"
          ]
         },
         "type": "pie",
         "uid": "1f60f3f2-5058-432b-b458-acdf0b80fca8",
         "values": [
          6788,
          5708,
          3077,
          2264,
          1672,
          1505,
          1307,
          1040,
          998,
          937,
          776,
          711,
          192,
          190,
          170,
          156,
          143,
          111,
          53,
          37
         ]
        }
       ],
       "layout": {
        "title": {
         "text": "Types of crime and their percentages"
        }
       }
      },
      "text/html": [
       "<div>\n",
       "        \n",
       "        \n",
       "            <div id=\"f31982d4-a188-4a4e-987d-2b8bbd960351\" class=\"plotly-graph-div\" style=\"height:525px; width:100%;\"></div>\n",
       "            <script type=\"text/javascript\">\n",
       "                require([\"plotly\"], function(Plotly) {\n",
       "                    window.PLOTLYENV=window.PLOTLYENV || {};\n",
       "                    window.PLOTLYENV.BASE_URL='https://plot.ly';\n",
       "                    \n",
       "                if (document.getElementById(\"f31982d4-a188-4a4e-987d-2b8bbd960351\")) {\n",
       "                    Plotly.newPlot(\n",
       "                        'f31982d4-a188-4a4e-987d-2b8bbd960351',\n",
       "                        [{\"hole\": 0.2, \"labels\": [\"THEFT\", \"BATTERY\", \"CRIMINAL DAMAGE\", \"ASSAULT\", \"OTHER OFFENSE\", \"DECEPTIVE PRACTICE\", \"NARCOTICS\", \"BURGLARY\", \"MOTOR VEHICLE THEFT\", \"ROBBERY\", \"WEAPONS VIOLATION\", \"CRIMINAL TRESPASS\", \"OFFENSE INVOLVING CHILDREN\", \"INTERFERENCE WITH PUBLIC OFFICER\", \"PUBLIC PEACE VIOLATION\", \"CRIM SEXUAL ASSAULT\", \"SEX OFFENSE\", \"PROSTITUTION\", \"HOMICIDE\", \"ARSON\"], \"marker\": {\"colors\": [\"skyblue\", \"#FEBFB3\", \"#96D38C\", \"#D0F9B1\", \"gold\", \"orange\", \"lightgrey\", \"lightblue\", \"lightgreen\", \"aqua\"]}, \"type\": \"pie\", \"uid\": \"d1c60393-7b3b-4e11-a6aa-04f22652718d\", \"values\": [6788, 5708, 3077, 2264, 1672, 1505, 1307, 1040, 998, 937, 776, 711, 192, 190, 170, 156, 143, 111, 53, 37]}],\n",
       "                        {\"title\": {\"text\": \"Types of crime and their percentages\"}},\n",
       "                        {\"showLink\": false, \"linkText\": \"Export to plot.ly\", \"plotlyServerURL\": \"https://plot.ly\", \"responsive\": true}\n",
       "                    ).then(function(){\n",
       "                            \n",
       "var gd = document.getElementById('f31982d4-a188-4a4e-987d-2b8bbd960351');\n",
       "var x = new MutationObserver(function (mutations, observer) {{\n",
       "        var display = window.getComputedStyle(gd).display;\n",
       "        if (!display || display === 'none') {{\n",
       "            console.log([gd, 'removed!']);\n",
       "            Plotly.purge(gd);\n",
       "            observer.disconnect();\n",
       "        }}\n",
       "}});\n",
       "\n",
       "// Listen for the removal of the full notebook cells\n",
       "var notebookContainer = gd.closest('#notebook-container');\n",
       "if (notebookContainer) {{\n",
       "    x.observe(notebookContainer, {childList: true});\n",
       "}}\n",
       "\n",
       "// Listen for the clearing of the current output cell\n",
       "var outputEl = gd.closest('.output');\n",
       "if (outputEl) {{\n",
       "    x.observe(outputEl, {childList: true});\n",
       "}}\n",
       "\n",
       "                        })\n",
       "                };\n",
       "                });\n",
       "            </script>\n",
       "        </div>"
      ]
     },
     "metadata": {},
     "output_type": "display_data"
    }
   ],
   "source": [
    "dff = df['Primary Type'].value_counts()[:20]\n",
    "label = dff.index\n",
    "size = dff.values\n",
    "\n",
    "colors = ['skyblue', '#FEBFB3', '#96D38C', '#D0F9B1', 'gold', 'orange', 'lightgrey', \n",
    "          'lightblue','lightgreen','aqua']\n",
    "trace = go.Pie(labels=label, values=size, marker=dict(colors=colors),hole = .2)\n",
    "\n",
    "data = [trace]\n",
    "layout = go.Layout(\n",
    "    title='Types of crime and their percentages'\n",
    ")\n",
    "\n",
    "fig = go.Figure(data=data, layout=layout)\n",
    "py.iplot(fig)"
   ]
  },
  {
   "cell_type": "code",
   "execution_count": 12,
   "metadata": {},
   "outputs": [
    {
     "data": {
      "application/vnd.plotly.v1+json": {
       "config": {
        "linkText": "Export to plot.ly",
        "plotlyServerURL": "https://plot.ly",
        "responsive": true,
        "showLink": false
       },
       "data": [
        {
         "marker": {
          "color": [
           6788,
           5708,
           3077,
           2264,
           1672,
           1505,
           1307,
           1040,
           998,
           937,
           776,
           711,
           192,
           190,
           170,
           156,
           143,
           111,
           53,
           37
          ],
          "colorscale": "Jet",
          "showscale": true
         },
         "type": "bar",
         "uid": "40135298-dd85-4b63-80ed-dbd55d79cccf",
         "x": [
          "THEFT",
          "BATTERY",
          "CRIMINAL DAMAGE",
          "ASSAULT",
          "OTHER OFFENSE",
          "DECEPTIVE PRACTICE",
          "NARCOTICS",
          "BURGLARY",
          "MOTOR VEHICLE THEFT",
          "ROBBERY",
          "WEAPONS VIOLATION",
          "CRIMINAL TRESPASS",
          "OFFENSE INVOLVING CHILDREN",
          "INTERFERENCE WITH PUBLIC OFFICER",
          "PUBLIC PEACE VIOLATION",
          "CRIM SEXUAL ASSAULT",
          "SEX OFFENSE",
          "PROSTITUTION",
          "HOMICIDE",
          "ARSON"
         ],
         "y": [
          6788,
          5708,
          3077,
          2264,
          1672,
          1505,
          1307,
          1040,
          998,
          937,
          776,
          711,
          192,
          190,
          170,
          156,
          143,
          111,
          53,
          37
         ]
        }
       ],
       "layout": {
        "title": {
         "text": "Crime Distribution by Types"
        },
        "yaxis": {
         "title": {
          "text": ""
         }
        }
       }
      },
      "text/html": [
       "<div>\n",
       "        \n",
       "        \n",
       "            <div id=\"e99c4f63-0ca1-4936-bf2c-7c0166ddb9b1\" class=\"plotly-graph-div\" style=\"height:525px; width:100%;\"></div>\n",
       "            <script type=\"text/javascript\">\n",
       "                require([\"plotly\"], function(Plotly) {\n",
       "                    window.PLOTLYENV=window.PLOTLYENV || {};\n",
       "                    window.PLOTLYENV.BASE_URL='https://plot.ly';\n",
       "                    \n",
       "                if (document.getElementById(\"e99c4f63-0ca1-4936-bf2c-7c0166ddb9b1\")) {\n",
       "                    Plotly.newPlot(\n",
       "                        'e99c4f63-0ca1-4936-bf2c-7c0166ddb9b1',\n",
       "                        [{\"marker\": {\"color\": [6788, 5708, 3077, 2264, 1672, 1505, 1307, 1040, 998, 937, 776, 711, 192, 190, 170, 156, 143, 111, 53, 37], \"colorscale\": \"Jet\", \"showscale\": true}, \"type\": \"bar\", \"uid\": \"b3a4bddb-c755-4501-9eec-c27de3535215\", \"x\": [\"THEFT\", \"BATTERY\", \"CRIMINAL DAMAGE\", \"ASSAULT\", \"OTHER OFFENSE\", \"DECEPTIVE PRACTICE\", \"NARCOTICS\", \"BURGLARY\", \"MOTOR VEHICLE THEFT\", \"ROBBERY\", \"WEAPONS VIOLATION\", \"CRIMINAL TRESPASS\", \"OFFENSE INVOLVING CHILDREN\", \"INTERFERENCE WITH PUBLIC OFFICER\", \"PUBLIC PEACE VIOLATION\", \"CRIM SEXUAL ASSAULT\", \"SEX OFFENSE\", \"PROSTITUTION\", \"HOMICIDE\", \"ARSON\"], \"y\": [6788, 5708, 3077, 2264, 1672, 1505, 1307, 1040, 998, 937, 776, 711, 192, 190, 170, 156, 143, 111, 53, 37]}],\n",
       "                        {\"title\": {\"text\": \"Crime Distribution by Types\"}, \"yaxis\": {\"title\": {\"text\": \"\"}}},\n",
       "                        {\"showLink\": false, \"linkText\": \"Export to plot.ly\", \"plotlyServerURL\": \"https://plot.ly\", \"responsive\": true}\n",
       "                    ).then(function(){\n",
       "                            \n",
       "var gd = document.getElementById('e99c4f63-0ca1-4936-bf2c-7c0166ddb9b1');\n",
       "var x = new MutationObserver(function (mutations, observer) {{\n",
       "        var display = window.getComputedStyle(gd).display;\n",
       "        if (!display || display === 'none') {{\n",
       "            console.log([gd, 'removed!']);\n",
       "            Plotly.purge(gd);\n",
       "            observer.disconnect();\n",
       "        }}\n",
       "}});\n",
       "\n",
       "// Listen for the removal of the full notebook cells\n",
       "var notebookContainer = gd.closest('#notebook-container');\n",
       "if (notebookContainer) {{\n",
       "    x.observe(notebookContainer, {childList: true});\n",
       "}}\n",
       "\n",
       "// Listen for the clearing of the current output cell\n",
       "var outputEl = gd.closest('.output');\n",
       "if (outputEl) {{\n",
       "    x.observe(outputEl, {childList: true});\n",
       "}}\n",
       "\n",
       "                        })\n",
       "                };\n",
       "                });\n",
       "            </script>\n",
       "        </div>"
      ]
     },
     "metadata": {},
     "output_type": "display_data"
    }
   ],
   "source": [
    "dff = df['Primary Type'].value_counts()[:20]\n",
    "\n",
    "trace = go.Bar(\n",
    "    x=dff.index,\n",
    "    y=dff.values,\n",
    "    marker=dict(\n",
    "        color = dff.values,\n",
    "        colorscale='Jet',\n",
    "        showscale=True\n",
    "    )\n",
    ")\n",
    "\n",
    "data = [trace]\n",
    "layout = go.Layout(\n",
    "    title='Crime Distribution by Types', \n",
    "    yaxis = dict(title = '')\n",
    ")\n",
    "\n",
    "fig = go.Figure(data=data, layout=layout)\n",
    "py.iplot(fig)"
   ]
  },
  {
   "cell_type": "code",
   "execution_count": 13,
   "metadata": {},
   "outputs": [],
   "source": [
    "#df['year'] = pd.DatetimeIndex(df['Date']).year"
   ]
  },
  {
   "cell_type": "code",
   "execution_count": 14,
   "metadata": {},
   "outputs": [],
   "source": [
    "#df.head(3)"
   ]
  },
  {
   "cell_type": "code",
   "execution_count": 15,
   "metadata": {},
   "outputs": [],
   "source": [
    "import pandas as pd\n",
    "import matplotlib.pyplot as plt\n",
    "import seaborn as sns\n",
    "import folium  \n",
    "from IPython.display import HTML, display"
   ]
  },
  {
   "cell_type": "code",
   "execution_count": 16,
   "metadata": {},
   "outputs": [],
   "source": [
    "chicago_map = folium.Map(location=[41.864073,-87.706819],\n",
    "                        zoom_start=11,\n",
    "                        tiles=\"CartoDB dark_matter\")"
   ]
  },
  {
   "cell_type": "code",
   "execution_count": 17,
   "metadata": {},
   "outputs": [],
   "source": [
    "locations = df.groupby('Community Area').first()"
   ]
  },
  {
   "cell_type": "code",
   "execution_count": 18,
   "metadata": {},
   "outputs": [],
   "source": [
    "new_locations = locations.loc[:, ['Latitude', 'Longitude', 'Location Description', 'Arrest']]"
   ]
  },
  {
   "cell_type": "code",
   "execution_count": 19,
   "metadata": {},
   "outputs": [],
   "source": [
    "for i in range(len(new_locations)):\n",
    "    lat = new_locations.iloc[i][0]\n",
    "    long = new_locations.iloc[i][1]\n",
    "    popup_text = \"\"\"Community Index : {}<br>\n",
    "                Arrest : {}<br>\n",
    "                Location Description : {}<br>\"\"\"\n",
    "    popup_text = popup_text.format(new_locations.index[i],\n",
    "                               new_locations.iloc[i][-1],\n",
    "                               new_locations.iloc[i][-2]\n",
    "                               )\n",
    "    folium.CircleMarker(location = [lat, long], popup= popup_text, fill = True, color = \"red\").add_to(chicago_map)\n",
    "\n",
    "\n"
   ]
  },
  {
   "cell_type": "code",
   "execution_count": 20,
   "metadata": {},
   "outputs": [
    {
     "data": {
      "text/html": [
       "<div style=\"width:100%;\"><div style=\"position:relative;width:100%;height:0;padding-bottom:60%;\"><iframe src=\"data:text/html;charset=utf-8;base64,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\" style=\"position:absolute;width:100%;height:100%;left:0;top:0;border:none !important;\" allowfullscreen webkitallowfullscreen mozallowfullscreen></iframe></div></div>"
      ],
      "text/plain": [
       "<folium.folium.Map at 0x110917390>"
      ]
     },
     "execution_count": 20,
     "metadata": {},
     "output_type": "execute_result"
    }
   ],
   "source": [
    "chicago_map"
   ]
  },
  {
   "cell_type": "code",
   "execution_count": 22,
   "metadata": {},
   "outputs": [],
   "source": [
    "#df.to_excel('/Users/varsha/Downloads/Final/CrimesChicagoData.xlsx')"
   ]
  },
  {
   "cell_type": "code",
   "execution_count": 14,
   "metadata": {},
   "outputs": [],
   "source": [
    "data =pd.read_excel(\"CrimesChicagoData.xlsx\")"
   ]
  },
  {
   "cell_type": "code",
   "execution_count": 15,
   "metadata": {},
   "outputs": [
    {
     "data": {
      "text/html": [
       "<div>\n",
       "<style scoped>\n",
       "    .dataframe tbody tr th:only-of-type {\n",
       "        vertical-align: middle;\n",
       "    }\n",
       "\n",
       "    .dataframe tbody tr th {\n",
       "        vertical-align: top;\n",
       "    }\n",
       "\n",
       "    .dataframe thead th {\n",
       "        text-align: right;\n",
       "    }\n",
       "</style>\n",
       "<table border=\"1\" class=\"dataframe\">\n",
       "  <thead>\n",
       "    <tr style=\"text-align: right;\">\n",
       "      <th></th>\n",
       "      <th>ID</th>\n",
       "      <th>Case Number</th>\n",
       "      <th>Date</th>\n",
       "      <th>Block</th>\n",
       "      <th>IUCR</th>\n",
       "      <th>Primary Type</th>\n",
       "      <th>Description</th>\n",
       "      <th>Location Description</th>\n",
       "      <th>Arrest</th>\n",
       "      <th>Domestic</th>\n",
       "      <th>...</th>\n",
       "      <th>Location</th>\n",
       "      <th>Historical Wards 2003-2015</th>\n",
       "      <th>Zip Codes</th>\n",
       "      <th>Community Areas</th>\n",
       "      <th>Census Tracts</th>\n",
       "      <th>Wards</th>\n",
       "      <th>Boundaries - ZIP Codes</th>\n",
       "      <th>Police Districts</th>\n",
       "      <th>Police Beats</th>\n",
       "      <th>year</th>\n",
       "    </tr>\n",
       "  </thead>\n",
       "  <tbody>\n",
       "    <tr>\n",
       "      <th>0</th>\n",
       "      <td>11723268</td>\n",
       "      <td>JC306982</td>\n",
       "      <td>06/14/2019 11:59:00 PM</td>\n",
       "      <td>073XX S DORCHESTER AVE</td>\n",
       "      <td>0820</td>\n",
       "      <td>THEFT</td>\n",
       "      <td>$500 AND UNDER</td>\n",
       "      <td>RESIDENCE</td>\n",
       "      <td>False</td>\n",
       "      <td>False</td>\n",
       "      <td>...</td>\n",
       "      <td>NaN</td>\n",
       "      <td>NaN</td>\n",
       "      <td>NaN</td>\n",
       "      <td>NaN</td>\n",
       "      <td>NaN</td>\n",
       "      <td>NaN</td>\n",
       "      <td>NaN</td>\n",
       "      <td>NaN</td>\n",
       "      <td>NaN</td>\n",
       "      <td>2019</td>\n",
       "    </tr>\n",
       "    <tr>\n",
       "      <th>1</th>\n",
       "      <td>11723171</td>\n",
       "      <td>JC306974</td>\n",
       "      <td>06/14/2019 11:55:00 PM</td>\n",
       "      <td>049XX S MILLARD AVE</td>\n",
       "      <td>1320</td>\n",
       "      <td>CRIMINAL DAMAGE</td>\n",
       "      <td>TO VEHICLE</td>\n",
       "      <td>PARKING LOT/GARAGE(NON.RESID.)</td>\n",
       "      <td>False</td>\n",
       "      <td>False</td>\n",
       "      <td>...</td>\n",
       "      <td>NaN</td>\n",
       "      <td>NaN</td>\n",
       "      <td>NaN</td>\n",
       "      <td>NaN</td>\n",
       "      <td>NaN</td>\n",
       "      <td>NaN</td>\n",
       "      <td>NaN</td>\n",
       "      <td>NaN</td>\n",
       "      <td>NaN</td>\n",
       "      <td>2019</td>\n",
       "    </tr>\n",
       "    <tr>\n",
       "      <th>2</th>\n",
       "      <td>11723281</td>\n",
       "      <td>JC306952</td>\n",
       "      <td>06/14/2019 11:51:00 PM</td>\n",
       "      <td>011XX E 82ND ST</td>\n",
       "      <td>0498</td>\n",
       "      <td>BATTERY</td>\n",
       "      <td>AGGRAVATED DOMESTIC BATTERY: HANDS/FIST/FEET S...</td>\n",
       "      <td>ALLEY</td>\n",
       "      <td>False</td>\n",
       "      <td>True</td>\n",
       "      <td>...</td>\n",
       "      <td>NaN</td>\n",
       "      <td>NaN</td>\n",
       "      <td>NaN</td>\n",
       "      <td>NaN</td>\n",
       "      <td>NaN</td>\n",
       "      <td>NaN</td>\n",
       "      <td>NaN</td>\n",
       "      <td>NaN</td>\n",
       "      <td>NaN</td>\n",
       "      <td>2019</td>\n",
       "    </tr>\n",
       "  </tbody>\n",
       "</table>\n",
       "<p>3 rows × 31 columns</p>\n",
       "</div>"
      ],
      "text/plain": [
       "         ID Case Number                    Date                   Block  IUCR  \\\n",
       "0  11723268    JC306982  06/14/2019 11:59:00 PM  073XX S DORCHESTER AVE  0820   \n",
       "1  11723171    JC306974  06/14/2019 11:55:00 PM     049XX S MILLARD AVE  1320   \n",
       "2  11723281    JC306952  06/14/2019 11:51:00 PM         011XX E 82ND ST  0498   \n",
       "\n",
       "      Primary Type                                        Description  \\\n",
       "0            THEFT                                     $500 AND UNDER   \n",
       "1  CRIMINAL DAMAGE                                         TO VEHICLE   \n",
       "2          BATTERY  AGGRAVATED DOMESTIC BATTERY: HANDS/FIST/FEET S...   \n",
       "\n",
       "             Location Description  Arrest  Domestic  ...   Location  \\\n",
       "0                       RESIDENCE   False     False  ...        NaN   \n",
       "1  PARKING LOT/GARAGE(NON.RESID.)   False     False  ...        NaN   \n",
       "2                           ALLEY   False      True  ...        NaN   \n",
       "\n",
       "   Historical Wards 2003-2015  Zip Codes  Community Areas Census Tracts  \\\n",
       "0                         NaN        NaN              NaN           NaN   \n",
       "1                         NaN        NaN              NaN           NaN   \n",
       "2                         NaN        NaN              NaN           NaN   \n",
       "\n",
       "   Wards  Boundaries - ZIP Codes  Police Districts Police Beats  year  \n",
       "0    NaN                     NaN               NaN          NaN  2019  \n",
       "1    NaN                     NaN               NaN          NaN  2019  \n",
       "2    NaN                     NaN               NaN          NaN  2019  \n",
       "\n",
       "[3 rows x 31 columns]"
      ]
     },
     "execution_count": 15,
     "metadata": {},
     "output_type": "execute_result"
    }
   ],
   "source": [
    "data.head(3)"
   ]
  },
  {
   "cell_type": "code",
   "execution_count": null,
   "metadata": {},
   "outputs": [],
   "source": []
  }
 ],
 "metadata": {
  "kernelspec": {
   "display_name": "Python 3",
   "language": "python",
   "name": "python3"
  },
  "language_info": {
   "codemirror_mode": {
    "name": "ipython",
    "version": 3
   },
   "file_extension": ".py",
   "mimetype": "text/x-python",
   "name": "python",
   "nbconvert_exporter": "python",
   "pygments_lexer": "ipython3",
   "version": "3.6.8"
  }
 },
 "nbformat": 4,
 "nbformat_minor": 2
}
